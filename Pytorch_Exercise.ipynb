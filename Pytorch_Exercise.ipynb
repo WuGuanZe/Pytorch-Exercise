{
  "nbformat": 4,
  "nbformat_minor": 0,
  "metadata": {
    "colab": {
      "name": "Pytorch Exercise.ipynb",
      "provenance": []
    },
    "kernelspec": {
      "name": "python3",
      "display_name": "Python 3"
    },
    "language_info": {
      "name": "python"
    },
    "accelerator": "GPU"
  },
  "cells": [
    {
      "cell_type": "code",
      "metadata": {
        "id": "asFUcUohkbvc"
      },
      "source": [
        "import torch"
      ],
      "execution_count": 1,
      "outputs": []
    },
    {
      "cell_type": "code",
      "metadata": {
        "colab": {
          "base_uri": "https://localhost:8080/"
        },
        "id": "qWjBsODR5oRr",
        "outputId": "c610cfd5-5869-45f5-8670-aaf16a4b584b"
      },
      "source": [
        "x1 = torch.randn(7,8)\n",
        "y1 = torch.randn(7,8)\n",
        "z1 = torch.randn(7,8)\n",
        "print(x1)\n",
        "print(y1)\n",
        "print(z1)"
      ],
      "execution_count": 2,
      "outputs": [
        {
          "output_type": "stream",
          "text": [
            "tensor([[ 2.5992e+00,  3.1874e-01,  1.9321e-01, -1.5677e+00, -5.5336e-01,\n",
            "         -1.1999e+00,  1.2652e+00,  1.5683e+00],\n",
            "        [-2.4046e+00,  4.7404e-02,  5.2272e-01, -3.9687e-01, -8.0782e-01,\n",
            "          9.4035e-01, -9.1001e-01,  4.6077e-01],\n",
            "        [-6.9654e-01,  7.1279e-01,  5.3389e-01, -1.2092e+00,  8.7253e-01,\n",
            "          1.3390e+00,  1.0117e+00, -7.5706e-01],\n",
            "        [-2.1168e+00, -1.6472e+00,  3.9818e-01,  1.5909e-01,  1.0306e+00,\n",
            "          2.2321e-01, -4.7506e-02,  1.6338e+00],\n",
            "        [-7.2276e-01, -2.4106e-01, -4.9481e-02,  9.5644e-01,  6.7302e-01,\n",
            "         -1.1554e+00, -8.7001e-01, -1.2692e+00],\n",
            "        [-5.3394e-01,  9.5333e-01, -1.3250e+00, -2.3842e+00, -1.2065e-01,\n",
            "         -7.1137e-02, -7.6430e-03,  5.0357e-01],\n",
            "        [ 6.3820e-01, -7.1720e-01, -1.3266e+00, -1.4336e+00,  1.3674e+00,\n",
            "         -1.1058e+00,  2.9437e-01, -3.2239e-04]])\n",
            "tensor([[-1.0368, -0.4354,  0.3554, -0.0941,  0.3304,  0.0986,  0.0350, -0.3964],\n",
            "        [ 0.2077, -0.8574, -0.4166,  0.6293,  1.7161,  0.0766,  0.2830,  0.0430],\n",
            "        [-1.0113,  0.6409, -0.1897, -0.1849,  1.4375,  1.9944,  1.6396,  0.7354],\n",
            "        [ 0.3821, -0.4797,  0.2528, -0.4778,  1.9092, -0.3217,  1.6617,  0.1647],\n",
            "        [-0.9484, -0.7623,  0.2994,  0.2417, -0.4351,  0.0275,  0.8685, -2.4301],\n",
            "        [-0.4162,  0.2089,  0.5209, -0.4490,  0.3845,  0.8699, -0.9393,  0.5151],\n",
            "        [ 0.2919,  1.7197, -1.4919, -1.1955, -1.0567,  0.1050,  0.1120, -1.3693]])\n",
            "tensor([[ 2.1996e-01,  5.6454e-01, -4.4984e-01, -9.1547e-02,  9.5617e-01,\n",
            "          2.2658e+00, -1.0690e+00,  1.2006e+00],\n",
            "        [-1.7641e-01,  3.5222e-01,  8.0112e-01,  1.2814e+00,  2.4886e-01,\n",
            "          3.2776e-01, -3.2335e-01, -1.3872e+00],\n",
            "        [ 7.5482e-01,  5.9079e-01,  7.9306e-01,  8.7684e-01, -6.9002e-01,\n",
            "          7.7459e-01,  3.2021e-01, -1.2317e+00],\n",
            "        [-7.4243e-01, -9.3784e-01, -1.8307e+00,  9.1694e-01, -3.6715e-01,\n",
            "          1.0835e+00,  8.8060e-01, -3.8007e-01],\n",
            "        [-6.7324e-01, -5.0555e-01,  1.2188e-01,  1.5865e-01,  2.5083e+00,\n",
            "         -9.1934e-01, -1.5520e+00, -1.6666e-03],\n",
            "        [ 6.5751e-01, -9.4741e-02,  1.9510e-01,  2.9362e-01, -3.7972e-01,\n",
            "         -1.5083e+00, -5.3175e-01, -2.7621e-01],\n",
            "        [ 1.6835e+00,  1.3869e-01,  6.0440e-02, -1.9601e-01, -5.1536e-01,\n",
            "          6.6719e-01,  1.8706e+00, -3.9870e-01]])\n"
          ],
          "name": "stdout"
        }
      ]
    },
    {
      "cell_type": "code",
      "metadata": {
        "colab": {
          "base_uri": "https://localhost:8080/"
        },
        "id": "CBKmdyOH52NU",
        "outputId": "19df6038-36e2-40a5-b5ae-587a15845242"
      },
      "source": [
        "# 1. max of entire tensor (torch.max(input) → Tensor)\n",
        "m1 = torch.max(x1)\n",
        "print(m1)"
      ],
      "execution_count": 3,
      "outputs": [
        {
          "output_type": "stream",
          "text": [
            "tensor(2.5992)\n"
          ],
          "name": "stdout"
        }
      ]
    },
    {
      "cell_type": "code",
      "metadata": {
        "colab": {
          "base_uri": "https://localhost:8080/"
        },
        "id": "ke2CTsUn5-Mz",
        "outputId": "2d83ce0c-4b5f-495c-e53b-e48947ee924d"
      },
      "source": [
        "# 2. max along a dimension (torch.max(input, dim, keepdim=False, *, out=None) → (Tensor, LongTensor))\n",
        "m1, idx1 = torch.max(x1,0)\n",
        "print(m1)\n",
        "print(idx1)"
      ],
      "execution_count": 4,
      "outputs": [
        {
          "output_type": "stream",
          "text": [
            "tensor([2.5992, 0.9533, 0.5339, 0.9564, 1.3674, 1.3390, 1.2652, 1.6338])\n",
            "tensor([0, 5, 2, 4, 6, 2, 0, 3])\n"
          ],
          "name": "stdout"
        }
      ]
    },
    {
      "cell_type": "code",
      "metadata": {
        "colab": {
          "base_uri": "https://localhost:8080/"
        },
        "id": "jh1IJ72N6If5",
        "outputId": "c31687d0-006f-4cb0-a549-59be271e52b0"
      },
      "source": [
        "# 2-2\n",
        "m1, idx1 = torch.max(input=x1,dim=0)\n",
        "print(m1)\n",
        "print(idx1)"
      ],
      "execution_count": 5,
      "outputs": [
        {
          "output_type": "stream",
          "text": [
            "tensor([2.5992, 0.9533, 0.5339, 0.9564, 1.3674, 1.3390, 1.2652, 1.6338])\n",
            "tensor([0, 5, 2, 4, 6, 2, 0, 3])\n"
          ],
          "name": "stdout"
        }
      ]
    },
    {
      "cell_type": "code",
      "metadata": {
        "colab": {
          "base_uri": "https://localhost:8080/"
        },
        "id": "aJaXcTCJ6RF-",
        "outputId": "f3089f39-5931-4657-b886-a2553a6e5fd0"
      },
      "source": [
        "# 2-3\n",
        "m1, idx1 = torch.max(x1,0,False)\n",
        "print(m1)\n",
        "print(idx1)"
      ],
      "execution_count": 6,
      "outputs": [
        {
          "output_type": "stream",
          "text": [
            "tensor([2.5992, 0.9533, 0.5339, 0.9564, 1.3674, 1.3390, 1.2652, 1.6338])\n",
            "tensor([0, 5, 2, 4, 6, 2, 0, 3])\n"
          ],
          "name": "stdout"
        }
      ]
    },
    {
      "cell_type": "code",
      "metadata": {
        "colab": {
          "base_uri": "https://localhost:8080/"
        },
        "id": "hnCHJLhf6cTl",
        "outputId": "1d726fde-20b1-44d4-b595-45cad9434ae3"
      },
      "source": [
        "# 2-4\n",
        "m1, idx1 = torch.max(x1,dim=0,keepdim=True)\n",
        "print(m1)\n",
        "print(idx1)"
      ],
      "execution_count": 7,
      "outputs": [
        {
          "output_type": "stream",
          "text": [
            "tensor([[2.5992, 0.9533, 0.5339, 0.9564, 1.3674, 1.3390, 1.2652, 1.6338]])\n",
            "tensor([[0, 5, 2, 4, 6, 2, 0, 3]])\n"
          ],
          "name": "stdout"
        }
      ]
    },
    {
      "cell_type": "code",
      "metadata": {
        "colab": {
          "base_uri": "https://localhost:8080/"
        },
        "id": "ve6Hpv0T6lOt",
        "outputId": "30496644-f370-4d99-be15-213272010278"
      },
      "source": [
        "# 2-5\n",
        "p1 = (m1,idx1)\n",
        "torch.max(x1,0,False,out=p1)\n",
        "print(p1[0])\n",
        "print(p1[1])"
      ],
      "execution_count": 8,
      "outputs": [
        {
          "output_type": "stream",
          "text": [
            "tensor([2.5992, 0.9533, 0.5339, 0.9564, 1.3674, 1.3390, 1.2652, 1.6338])\n",
            "tensor([0, 5, 2, 4, 6, 2, 0, 3])\n"
          ],
          "name": "stdout"
        },
        {
          "output_type": "stream",
          "text": [
            "/usr/local/lib/python3.7/dist-packages/ipykernel_launcher.py:3: UserWarning: An output with one or more elements was resized since it had shape [1, 1, 8], which does not match the required output shape [1, 8].This behavior is deprecated, and in a future PyTorch release outputs will not be resized unless they have zero elements. You can explicitly reuse an out tensor t by resizing it, inplace, to zero elements with t.resize_(0). (Triggered internally at  /pytorch/aten/src/ATen/native/Resize.cpp:23.)\n",
            "  This is separate from the ipykernel package so we can avoid doing imports until\n"
          ],
          "name": "stderr"
        }
      ]
    },
    {
      "cell_type": "code",
      "metadata": {
        "colab": {
          "base_uri": "https://localhost:8080/"
        },
        "id": "7vL6N5DX6rUB",
        "outputId": "b99285b7-f8e8-497c-9f99-ad539a65466c"
      },
      "source": [
        "# 2-6\n",
        "p1 = (m1,idx1)\n",
        "torch.max(x1,0,False,out=p1)\n",
        "print(p1[0])\n",
        "print(p1[1])"
      ],
      "execution_count": 9,
      "outputs": [
        {
          "output_type": "stream",
          "text": [
            "tensor([2.5992, 0.9533, 0.5339, 0.9564, 1.3674, 1.3390, 1.2652, 1.6338])\n",
            "tensor([0, 5, 2, 4, 6, 2, 0, 3])\n"
          ],
          "name": "stdout"
        }
      ]
    },
    {
      "cell_type": "code",
      "metadata": {
        "colab": {
          "base_uri": "https://localhost:8080/"
        },
        "id": "DhJzDiSw6zQw",
        "outputId": "4d4284e4-8477-43ef-8ca2-f1a01828e80a"
      },
      "source": [
        "# 3. max(choose max) operators on two tensors (torch.max(input, other, *, out=None) → Tensor)\n",
        "t1 = torch.max(x1,y1)\n",
        "print(t1)"
      ],
      "execution_count": 10,
      "outputs": [
        {
          "output_type": "stream",
          "text": [
            "tensor([[ 2.5992e+00,  3.1874e-01,  3.5539e-01, -9.4146e-02,  3.3041e-01,\n",
            "          9.8647e-02,  1.2652e+00,  1.5683e+00],\n",
            "        [ 2.0769e-01,  4.7404e-02,  5.2272e-01,  6.2930e-01,  1.7161e+00,\n",
            "          9.4035e-01,  2.8304e-01,  4.6077e-01],\n",
            "        [-6.9654e-01,  7.1279e-01,  5.3389e-01, -1.8491e-01,  1.4375e+00,\n",
            "          1.9944e+00,  1.6396e+00,  7.3542e-01],\n",
            "        [ 3.8209e-01, -4.7967e-01,  3.9818e-01,  1.5909e-01,  1.9092e+00,\n",
            "          2.2321e-01,  1.6617e+00,  1.6338e+00],\n",
            "        [-7.2276e-01, -2.4106e-01,  2.9941e-01,  9.5644e-01,  6.7302e-01,\n",
            "          2.7525e-02,  8.6854e-01, -1.2692e+00],\n",
            "        [-4.1625e-01,  9.5333e-01,  5.2090e-01, -4.4895e-01,  3.8453e-01,\n",
            "          8.6989e-01, -7.6430e-03,  5.1514e-01],\n",
            "        [ 6.3820e-01,  1.7197e+00, -1.3266e+00, -1.1955e+00,  1.3674e+00,\n",
            "          1.0497e-01,  2.9437e-01, -3.2239e-04]])\n"
          ],
          "name": "stdout"
        }
      ]
    },
    {
      "cell_type": "code",
      "metadata": {
        "id": "Aidd0RRI7HlS"
      },
      "source": [
        "dataset1 = \"abcdefghijklmnopqrstuvwxyz1234567890\""
      ],
      "execution_count": 11,
      "outputs": []
    },
    {
      "cell_type": "code",
      "metadata": {
        "colab": {
          "base_uri": "https://localhost:8080/"
        },
        "id": "nzH9pPic8AnH",
        "outputId": "134c0a87-5512-41e5-92d8-aaff25cf3ddf"
      },
      "source": [
        "for datapoint1 in dataset1:\n",
        "  print(datapoint1)"
      ],
      "execution_count": 12,
      "outputs": [
        {
          "output_type": "stream",
          "text": [
            "a\n",
            "b\n",
            "c\n",
            "d\n",
            "e\n",
            "f\n",
            "g\n",
            "h\n",
            "i\n",
            "j\n",
            "k\n",
            "l\n",
            "m\n",
            "n\n",
            "o\n",
            "p\n",
            "q\n",
            "r\n",
            "s\n",
            "t\n",
            "u\n",
            "v\n",
            "w\n",
            "x\n",
            "y\n",
            "z\n",
            "1\n",
            "2\n",
            "3\n",
            "4\n",
            "5\n",
            "6\n",
            "7\n",
            "8\n",
            "9\n",
            "0\n"
          ],
          "name": "stdout"
        }
      ]
    },
    {
      "cell_type": "code",
      "metadata": {
        "id": "jAgrtpdV9s5J"
      },
      "source": [
        ""
      ],
      "execution_count": null,
      "outputs": []
    }
  ]
}